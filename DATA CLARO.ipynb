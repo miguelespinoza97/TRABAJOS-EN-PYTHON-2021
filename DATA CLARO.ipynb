{
 "cells": [
  {
   "cell_type": "code",
   "execution_count": 48,
   "metadata": {},
   "outputs": [],
   "source": [
    "from selenium import webdriver\n",
    "from selenium.webdriver.support.ui import WebDriverWait\n",
    "from selenium.webdriver.support import expected_conditions as EC\n",
    "from selenium.webdriver.common.by import By\n",
    "import time\n",
    "import pandas as pd\n",
    "from pandas import Series,DataFrame\n",
    "import numpy as np\n",
    "import re\n",
    "from selenium.common.exceptions import NoSuchElementException"
   ]
  },
  {
   "cell_type": "code",
   "execution_count": 40,
   "metadata": {},
   "outputs": [],
   "source": [
    "options = webdriver.ChromeOptions()\n",
    "options.add_argument(\"--start-maximized\")\n",
    "options.add_argument(\"--disable-extensions\")\n"
   ]
  },
  {
   "cell_type": "code",
   "execution_count": 49,
   "metadata": {},
   "outputs": [],
   "source": [
    "driver_path = r\"C:\\Users\\ANZONY\\Downloads\\chromedriver.exe\"\n",
    "driver = webdriver.Chrome(driver_path , options =options)\n",
    "driver.get('https://tiendaclaro.pe/catalogo/personas/portabilidad/acuerdo-18/celulares/todos/todos?nav=1')\n",
    "time.sleep(1)"
   ]
  },
  {
   "cell_type": "code",
   "execution_count": 42,
   "metadata": {},
   "outputs": [],
   "source": [
    "i= 1\n",
    "\n",
    "caja=\"vacio\"\n",
    "nombres = []\n",
    "precios = []\n"
   ]
  },
  {
   "cell_type": "code",
   "execution_count": null,
   "metadata": {},
   "outputs": [],
   "source": [
    "url = input(\"Enter URL to detect ads from: \")\n",
    "\n",
    "browser = webdriver.Chrome()\n",
    "browser.get(\"http://\"+url)\n",
    "\n",
    "all_iframes = browser.find_elements_by_tag_name(\"iframe\")\n",
    "if len(all_iframes) > 0:\n",
    "print(\"Ad Foundn\")\n",
    "browser.execute_script(\"\"\"\n",
    "var elems = document.getElementsByTagName(\"iframe\");\n",
    "for(var i = 0, max = elems.length; i < max; i++)\n",
    "{\n",
    "elems[i].hidden=true;\n",
    "}\n",
    "\"\"\")\n",
    "print(\"Total Ads: \" + str(len(all_iframes)))\n",
    "else:\n",
    "print(\"No frames found\")"
   ]
  },
  {
   "cell_type": "code",
   "execution_count": 44,
   "metadata": {},
   "outputs": [
    {
     "ename": "IndentationError",
     "evalue": "expected an indented block (<ipython-input-44-94f6d3d74a55>, line 3)",
     "output_type": "error",
     "traceback": [
      "\u001b[1;36m  File \u001b[1;32m\"<ipython-input-44-94f6d3d74a55>\"\u001b[1;36m, line \u001b[1;32m3\u001b[0m\n\u001b[1;33m    datas = driver.find_elements(By.XPATH,f'//*[@id=\"contentcatalog\"]/app-product/div/div[{i}]')\u001b[0m\n\u001b[1;37m    ^\u001b[0m\n\u001b[1;31mIndentationError\u001b[0m\u001b[1;31m:\u001b[0m expected an indented block\n"
     ]
    }
   ],
   "source": [
    "\n",
    "while caja !=0 :\n",
    "\n",
    "datas = driver.find_elements(By.XPATH,f'//*[@id=\"contentcatalog\"]/app-product/div/div[{i}]')\n",
    "\n",
    "nombre=datas[0].find_element(By.XPATH,f'//*[@id=\"contentcatalog\"]/app-product/div/div[{i}]/section/div[2]').text\n",
    "nombres.append(nombre)\n",
    "print(nombre)\n",
    "\n",
    "i +=1 \n",
    "\n",
    "\n",
    "datas = driver.find_elements(By.XPATH,f'//*[@id=\"contentcatalog\"]/app-product/div/div[{i}]')\n",
    "caja = len(caja)\n"
   ]
  },
  {
   "cell_type": "code",
   "execution_count": 51,
   "metadata": {},
   "outputs": [
    {
     "name": "stdout",
     "output_type": "stream",
     "text": [
      "APPLE\n",
      "iPhone 12 Pro Max 512GB\n",
      "S/ 6449\n"
     ]
    }
   ],
   "source": [
    "\n",
    "datas = driver.find_elements(By.XPATH,f'//*[@id=\"contentcatalog\"]/app-product/div/div[1]')\n",
    "nombre=datas[0].find_element(By.XPATH,f'//*[@id=\"contentcatalog\"]/app-product/div/div[1]/section/div[2]').text\n",
    "print(nombre)\n",
    "precio=datas[0].find_element(By.XPATH,f'//*[@id=\"contentcatalog\"]/app-product/div/div[1]/section/div[3]/div[2]/div[2]/h3').text\n",
    "print(precio)\n",
    "\n",
    "\n",
    "\n",
    "\n"
   ]
  },
  {
   "cell_type": "code",
   "execution_count": null,
   "metadata": {},
   "outputs": [],
   "source": []
  }
 ],
 "metadata": {
  "kernelspec": {
   "display_name": "Python 3",
   "language": "python",
   "name": "python3"
  },
  "language_info": {
   "codemirror_mode": {
    "name": "ipython",
    "version": 3
   },
   "file_extension": ".py",
   "mimetype": "text/x-python",
   "name": "python",
   "nbconvert_exporter": "python",
   "pygments_lexer": "ipython3",
   "version": "3.8.5"
  }
 },
 "nbformat": 4,
 "nbformat_minor": 4
}
