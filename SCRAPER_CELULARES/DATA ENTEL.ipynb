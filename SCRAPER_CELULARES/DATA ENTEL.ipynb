{
 "cells": [
  {
   "cell_type": "code",
   "execution_count": 8,
   "metadata": {},
   "outputs": [],
   "source": [
    "# Importo las librerias\n",
    "from selenium import webdriver\n",
    "from selenium.webdriver.support.ui import WebDriverWait\n",
    "from selenium.webdriver.support import expected_conditions as EC\n",
    "from selenium.webdriver.common.by import By\n",
    "import time\n",
    "from time import sleep\n",
    "import numpy as np\n",
    "import pandas as pd\n",
    "from pandas import Series,DataFrame\n",
    "import re\n",
    "\n",
    "from selenium.common.exceptions import NoSuchElementException"
   ]
  },
  {
   "cell_type": "code",
   "execution_count": 6,
   "metadata": {},
   "outputs": [],
   "source": [
    "options = webdriver.ChromeOptions()\n",
    "options.add_argument(\"--start-maximized\")\n",
    "options.add_argument(\"--disable-extensions\")\n",
    "\n",
    "driver_path =r'C:\\Users\\SAD\\Downloads\\drives_ch\\chromedriver.exe'\n",
    "driver = webdriver.Chrome(driver_path, options=options)\n",
    "\n",
    "driver.get('https://catalogo.entel.pe/personas/celulares?para=personas&modalidad=equipo-prepago')\n",
    "sleep(1)"
   ]
  },
  {
   "cell_type": "code",
   "execution_count": 3,
   "metadata": {},
   "outputs": [],
   "source": [
    "\n",
    "#creando listas vacias\n",
    "Nombres=[]\n",
    "Precio=[]\n",
    "nada=\"vacio\"\n",
    "i = 1\n",
    "index=1\n"
   ]
  },
  {
   "cell_type": "code",
   "execution_count": 7,
   "metadata": {},
   "outputs": [
    {
     "name": "stdout",
     "output_type": "stream",
     "text": [
      "Y7P NEGRO + BAND 4E\n",
      "S/ 729\n",
      "Y7P NEGRO\n",
      "S/ 729\n",
      "IPHONE 11 PRO MAX 64GB SPACE GRAY\n",
      "S/ 5499\n",
      "GALAXY A10S NEGRO\n",
      "S/ 599\n",
      "GALAXY A51 NEGRO\n",
      "S/ 1299\n",
      "P40 LITE VERDE\n",
      "S/ 1119\n",
      "Y8S NEGRO\n",
      "S/ 849\n",
      "Y7 NEW EDITION NEGRO\n",
      "S/ 699\n",
      "GALAXY A71 NEGRO\n",
      "S/ 1899\n",
      "P30 LITE NEGRO NEW EDITION\n",
      "S/ 1249\n",
      "P30 LITE NEGRO OBSIDIANA\n",
      "S/ 999\n",
      "Y9S NEGRO\n",
      "S/ 1249\n",
      "ENTEL CHIP POWER AUTOACTIVABLE\n",
      "S/ 10\n"
     ]
    }
   ],
   "source": [
    "datas = driver.find_elements(By.XPATH,f'/html/body/div[4]/div/section[2]/div[3]/a[{i}]')\n",
    "\n",
    "\n",
    "while nada !=0 :\n",
    "\n",
    "    for data in datas:\n",
    "\n",
    "        nombre = data.find_element(By.XPATH,f'/html/body/div[4]/div/section[2]/div[3]/a[{i}]/div[2]/h2').text\n",
    "        Nombres.append(nombre)\n",
    "        print(nombre)\n",
    "\n",
    "        precio=data.find_element(By.XPATH,f'/html/body/div[4]/div/section[2]/div[3]/a[{i}]/div[2]/div[2]').text\n",
    "        Precio.append(precio)\n",
    "        print(precio)\n",
    "\n",
    "        i+=1\n",
    "\n",
    "        data = driver.find_elements(By.XPATH,f'/html/body/div[4]/div/section[2]/div[3]/a[{i}]')\n",
    "        nada= len(data)\n"
   ]
  },
  {
   "cell_type": "code",
   "execution_count": 102,
   "metadata": {},
   "outputs": [],
   "source": [
    "datos={\"Nombres\" :Nombres , \"Precio\":Precio}\n"
   ]
  },
  {
   "cell_type": "code",
   "execution_count": 103,
   "metadata": {},
   "outputs": [
    {
     "data": {
      "text/html": [
       "<div>\n",
       "<style scoped>\n",
       "    .dataframe tbody tr th:only-of-type {\n",
       "        vertical-align: middle;\n",
       "    }\n",
       "\n",
       "    .dataframe tbody tr th {\n",
       "        vertical-align: top;\n",
       "    }\n",
       "\n",
       "    .dataframe thead th {\n",
       "        text-align: right;\n",
       "    }\n",
       "</style>\n",
       "<table border=\"1\" class=\"dataframe\">\n",
       "  <thead>\n",
       "    <tr style=\"text-align: right;\">\n",
       "      <th></th>\n",
       "      <th>Nombres</th>\n",
       "      <th>Precio</th>\n",
       "    </tr>\n",
       "  </thead>\n",
       "  <tbody>\n",
       "    <tr>\n",
       "      <th>0</th>\n",
       "      <td>Y7P NEGRO + BAND 4E</td>\n",
       "      <td>S/ 729</td>\n",
       "    </tr>\n",
       "    <tr>\n",
       "      <th>1</th>\n",
       "      <td>Y7P NEGRO</td>\n",
       "      <td>S/ 729</td>\n",
       "    </tr>\n",
       "    <tr>\n",
       "      <th>2</th>\n",
       "      <td>IPHONE 11 PRO MAX 64GB SPACE GRAY</td>\n",
       "      <td>S/ 5499</td>\n",
       "    </tr>\n",
       "    <tr>\n",
       "      <th>3</th>\n",
       "      <td>GALAXY A10S NEGRO</td>\n",
       "      <td>S/ 599</td>\n",
       "    </tr>\n",
       "    <tr>\n",
       "      <th>4</th>\n",
       "      <td>GALAXY A51 NEGRO</td>\n",
       "      <td>S/ 1299</td>\n",
       "    </tr>\n",
       "    <tr>\n",
       "      <th>5</th>\n",
       "      <td>P40 LITE VERDE</td>\n",
       "      <td>S/ 1119</td>\n",
       "    </tr>\n",
       "    <tr>\n",
       "      <th>6</th>\n",
       "      <td>Y8S NEGRO</td>\n",
       "      <td>S/ 849</td>\n",
       "    </tr>\n",
       "    <tr>\n",
       "      <th>7</th>\n",
       "      <td>Y7 NEW EDITION NEGRO</td>\n",
       "      <td>S/ 699</td>\n",
       "    </tr>\n",
       "    <tr>\n",
       "      <th>8</th>\n",
       "      <td>GALAXY A71 NEGRO</td>\n",
       "      <td>S/ 1899</td>\n",
       "    </tr>\n",
       "    <tr>\n",
       "      <th>9</th>\n",
       "      <td>P30 LITE NEGRO NEW EDITION</td>\n",
       "      <td>S/ 1249</td>\n",
       "    </tr>\n",
       "    <tr>\n",
       "      <th>10</th>\n",
       "      <td>P30 LITE NEGRO OBSIDIANA</td>\n",
       "      <td>S/ 999</td>\n",
       "    </tr>\n",
       "    <tr>\n",
       "      <th>11</th>\n",
       "      <td>Y9S NEGRO</td>\n",
       "      <td>S/ 1249</td>\n",
       "    </tr>\n",
       "    <tr>\n",
       "      <th>12</th>\n",
       "      <td>ENTEL CHIP POWER AUTOACTIVABLE</td>\n",
       "      <td>S/ 10</td>\n",
       "    </tr>\n",
       "  </tbody>\n",
       "</table>\n",
       "</div>"
      ],
      "text/plain": [
       "                              Nombres   Precio\n",
       "0                 Y7P NEGRO + BAND 4E   S/ 729\n",
       "1                           Y7P NEGRO   S/ 729\n",
       "2   IPHONE 11 PRO MAX 64GB SPACE GRAY  S/ 5499\n",
       "3                   GALAXY A10S NEGRO   S/ 599\n",
       "4                    GALAXY A51 NEGRO  S/ 1299\n",
       "5                      P40 LITE VERDE  S/ 1119\n",
       "6                           Y8S NEGRO   S/ 849\n",
       "7                Y7 NEW EDITION NEGRO   S/ 699\n",
       "8                    GALAXY A71 NEGRO  S/ 1899\n",
       "9          P30 LITE NEGRO NEW EDITION  S/ 1249\n",
       "10           P30 LITE NEGRO OBSIDIANA   S/ 999\n",
       "11                          Y9S NEGRO  S/ 1249\n",
       "12     ENTEL CHIP POWER AUTOACTIVABLE    S/ 10"
      ]
     },
     "execution_count": 103,
     "metadata": {},
     "output_type": "execute_result"
    }
   ],
   "source": [
    "datos_1=pd.DataFrame(datos)\n",
    "datos_1"
   ]
  },
  {
   "cell_type": "code",
   "execution_count": 104,
   "metadata": {},
   "outputs": [],
   "source": [
    "datos_1.to_excel( r\"C:\\Users\\SAD\\Desktop\\Datas\\Data_Entel.xlsx\")"
   ]
  },
  {
   "cell_type": "code",
   "execution_count": null,
   "metadata": {},
   "outputs": [],
   "source": []
  }
 ],
 "metadata": {
  "kernelspec": {
   "display_name": "Python 3",
   "language": "python",
   "name": "python3"
  },
  "language_info": {
   "codemirror_mode": {
    "name": "ipython",
    "version": 3
   },
   "file_extension": ".py",
   "mimetype": "text/x-python",
   "name": "python",
   "nbconvert_exporter": "python",
   "pygments_lexer": "ipython3",
   "version": "3.8.5"
  }
 },
 "nbformat": 4,
 "nbformat_minor": 4
}
